{
 "metadata": {
  "language": "haskell",
  "name": "",
  "signature": "sha256:eac33faa41c71157a513289904205be91e76a09d527436608705ab3ea65f2369"
 },
 "nbformat": 3,
 "nbformat_minor": 0,
 "worksheets": [
  {
   "cells": [
    {
     "cell_type": "markdown",
     "metadata": {
      "hidden": false
     },
     "source": [
      "Getting Started with Repa Flow\n",
      "=============================="
     ]
    },
    {
     "cell_type": "markdown",
     "metadata": {
      "hidden": false
     },
     "source": [
      "Sourcing Data\n",
      "---------------\n",
      "\n",
      "A flow consists of a bundle of individual streams. Here we create a bundle of two stream sources, using different files for \n",
      "each."
     ]
    },
    {
     "cell_type": "code",
     "collapsed": false,
     "input": [
      "import Data.Repa.Flow as F"
     ],
     "language": "python",
     "metadata": {
      "hidden": false
     },
     "outputs": [],
     "prompt_number": 1
    },
    {
     "cell_type": "code",
     "collapsed": false,
     "input": [
      "ws <- F.fromFiles \n",
      "        [ \"/usr/share/dict/words\"\n",
      "        , \"/usr/share/dict/connectives\"]\n",
      "        F.sourceLines"
     ],
     "language": "python",
     "metadata": {
      "hidden": false
     },
     "outputs": [],
     "prompt_number": 14
    },
    {
     "cell_type": "markdown",
     "metadata": {
      "hidden": false
     },
     "source": [
      "The value `ws` is a bundle of stream sources. We have one stream for each file. We can check how many streams are in the bundle using the `sourcesArity` function."
     ]
    },
    {
     "cell_type": "code",
     "collapsed": false,
     "input": [
      "F.sourcesArity ws"
     ],
     "language": "python",
     "metadata": {
      "hidden": false
     },
     "outputs": [
      {
       "metadata": {},
       "output_type": "display_data",
       "text": [
        "2"
       ]
      }
     ],
     "prompt_number": 17
    },
    {
     "cell_type": "markdown",
     "metadata": {
      "hidden": false
     },
     "source": [
      "Layouts and Chunking\n",
      "--------------------\n",
      "\n",
      "Lets look at the type of the `ws` bundle."
     ]
    },
    {
     "cell_type": "code",
     "collapsed": false,
     "input": [
      ":type ws"
     ],
     "language": "python",
     "metadata": {},
     "outputs": [
      {
       "html": [
        "<span class='get-type'>ws :: Sources N (Array F Char)</span>"
       ],
       "metadata": {},
       "output_type": "display_data",
       "text": [
        "ws :: Sources N (Array F Char)"
       ]
      }
     ],
     "prompt_number": 42
    },
    {
     "cell_type": "markdown",
     "metadata": {
      "hidden": false
     },
     "source": [
      "TODO: explain layout names. Should have tutorial for Array API first."
     ]
    },
    {
     "cell_type": "code",
     "collapsed": false,
     "input": [
      ":type N\n",
      ":type F"
     ],
     "language": "python",
     "metadata": {},
     "outputs": [
      {
       "html": [
        "<span class='get-type'>N :: Name N</span>"
       ],
       "metadata": {},
       "output_type": "display_data",
       "text": [
        "N :: Name N"
       ]
      },
      {
       "html": [
        "<span class='get-type'>F :: Name F</span>"
       ],
       "metadata": {},
       "output_type": "display_data",
       "text": [
        "F :: Name F"
       ]
      }
     ],
     "prompt_number": 58
    },
    {
     "cell_type": "markdown",
     "metadata": {
      "hidden": false
     },
     "source": [
      "Using the `Data.Repa.Flow` API, the default chunk size is 64kBytes, which is exposed by the variable `F.defaultChunkSize`."
     ]
    },
    {
     "cell_type": "code",
     "collapsed": false,
     "input": [
      "print $ \"chunkSize = \" ++ show F.defaultChunkSize"
     ],
     "language": "python",
     "metadata": {},
     "outputs": [
      {
       "metadata": {},
       "output_type": "display_data",
       "text": [
        "\"chunkSize = 65536\""
       ]
      }
     ],
     "prompt_number": 21
    },
    {
     "cell_type": "markdown",
     "metadata": {
      "hidden": false
     },
     "source": [
      "For debugging purposes, the `more` function takes the index of a stream in a bundle of `Sources`, pulls a whole chunk from that stream, and and displays the requested number of elements from the front of it. In production code you could use the `head_i` function to split a few elements from the stream while retaining the rest."
     ]
    },
    {
     "cell_type": "code",
     "collapsed": false,
     "input": [
      "import Data.Repa.Flow.Default.Debug\n",
      "more 0 ws"
     ],
     "language": "python",
     "metadata": {
      "hidden": false
     },
     "outputs": [
      {
       "metadata": {},
       "output_type": "display_data",
       "text": [
        "Just [\"A\",\"a\",\"aa\",\"aal\",\"aalii\",\"aam\",\"Aani\",\"aardvark\",\"aardwolf\",\"Aaron\",\"Aaronic\",\"Aaronical\",\"Aaronite\",\"Aaronitic\",\"Aaru\",\"Ab\",\"aba\",\"Ababdeh\",\"Ababua\",\"abac\"]"
       ]
      }
     ],
     "prompt_number": 5
    },
    {
     "cell_type": "markdown",
     "metadata": {
      "hidden": false
     },
     "source": [
      "Repa flows are stateful, so executing the previous command consumes a chunk from the stream. If we run it again we get the first few elements of the next chunk."
     ]
    },
    {
     "cell_type": "code",
     "collapsed": false,
     "input": [
      "more 0 ws"
     ],
     "language": "python",
     "metadata": {
      "hidden": false
     },
     "outputs": [
      {
       "metadata": {},
       "output_type": "display_data",
       "text": [
        "Just [\"Ambrosio\",\"ambrosterol\",\"ambrotype\",\"ambry\",\"ambsace\",\"ambulacral\",\"ambulacriform\",\"ambulacrum\",\"ambulance\",\"ambulancer\",\"ambulant\",\"ambulate\",\"ambulatio\",\"ambulation\",\"ambulative\",\"ambulator\",\"Ambulatoria\",\"ambulatorial\",\"ambulatorium\",\"ambulatory\"]"
       ]
      }
     ],
     "prompt_number": 6
    },
    {
     "cell_type": "markdown",
     "metadata": {
      "hidden": false
     },
     "source": [
      "If you want more elements from each chunk then use `more'`."
     ]
    },
    {
     "cell_type": "code",
     "collapsed": false,
     "input": [
      "more' 0 100 ws"
     ],
     "language": "python",
     "metadata": {},
     "outputs": [
      {
       "metadata": {},
       "output_type": "display_data",
       "text": [
        "Just [\"arbitrament\",\"arbitrarily\",\"arbitrariness\",\"arbitrary\",\"arbitrate\",\"arbitration\",\"arbitrational\",\"arbitrationist\",\"arbitrative\",\"arbitrator\",\"arbitratorship\",\"arbitratrix\",\"arbitrement\",\"arbitrer\",\"arbitress\",\"arboloco\",\"arbor\",\"arboraceous\",\"arboral\",\"arborary\",\"arborator\",\"arboreal\",\"arboreally\",\"arborean\",\"arbored\",\"arboreous\",\"arborescence\",\"arborescent\",\"arborescently\",\"arboresque\",\"arboret\",\"arboreta\",\"arboretum\",\"arborical\",\"arboricole\",\"arboricoline\",\"arboricolous\",\"arboricultural\",\"arboriculture\",\"arboriculturist\",\"arboriform\",\"arborist\",\"arborization\",\"arborize\",\"arboroid\",\"arborolatry\",\"arborous\",\"arborvitae\",\"arborway\",\"arbuscle\",\"arbuscula\",\"arbuscular\",\"arbuscule\",\"arbusterol\",\"arbustum\",\"arbutase\",\"arbute\",\"arbutean\",\"arbutin\",\"arbutinase\",\"arbutus\",\"arc\",\"arca\",\"Arcacea\",\"arcade\",\"Arcadia\",\"Arcadian\",\"arcadian\",\"Arcadianism\",\"Arcadianly\",\"Arcadic\",\"Arcady\",\"arcana\",\"arcanal\",\"arcane\",\"arcanite\",\"arcanum\",\"arcate\",\"arcature\",\"Arcella\",\"Arceuthobium\",\"arch\",\"archabomination\",\"archae\",\"archaecraniate\",\"Archaeoceti\",\"Archaeocyathidae\",\"Archaeocyathus\",\"archaeogeology\",\"archaeographic\",\"archaeographical\",\"archaeography\",\"archaeolatry\",\"archaeolith\",\"archaeolithic\",\"archaeologer\",\"archaeologian\",\"archaeologic\",\"archaeological\",\"archaeologically\"]"
       ]
      }
     ],
     "prompt_number": 7
    },
    {
     "cell_type": "markdown",
     "metadata": {
      "hidden": false
     },
     "source": [
      "Use `moret` to display elements in tabular form. Here are the first few elements of the second stream in the bundle."
     ]
    },
    {
     "cell_type": "code",
     "collapsed": false,
     "input": [
      "moret 1 ws"
     ],
     "language": "python",
     "metadata": {},
     "outputs": [
      {
       "metadata": {},
       "output_type": "display_data",
       "text": [
        "\"the\" \n",
        "\"of\"  \n",
        "\"and\" \n",
        "\"to\"  \n",
        "\"a\"   \n",
        "\"in\"  \n",
        "\"that\"\n",
        "\"is\"  \n",
        "\"was\" \n",
        "\"he\"  \n",
        "\"for\" \n",
        "\"it\"  \n",
        "\"with\"\n",
        "\"as\"  \n",
        "\"his\" \n",
        "\"on\"  \n",
        "\"be\"  \n",
        "\"at\"  \n",
        "\"by\"  \n",
        "\"i\""
       ]
      }
     ],
     "prompt_number": 35
    },
    {
     "cell_type": "markdown",
     "metadata": {
      "hidden": false
     },
     "source": [
      "Mapping\n",
      "-------\n",
      "\n",
      "Lets convert the characters to uppper-case. Use the `map_i` function which applies a worker to all elements of all streams in a bundle of `Sources`. We'll discuss the meaning of the `_i` suffix in the next section."
     ]
    },
    {
     "cell_type": "code",
     "collapsed": false,
     "input": [
      "import Data.Char\n",
      "up <- map_i B (mapS U toUpper) ws\n",
      "more 0 up"
     ],
     "language": "python",
     "metadata": {
      "hidden": false
     },
     "outputs": [
      {
       "metadata": {},
       "output_type": "display_data",
       "text": [
        "Just [\"BARRISTRESS\",\"BARROOM\",\"BARROW\",\"BARROWFUL\",\"BARROWIST\",\"BARROWMAN\",\"BARRULEE\",\"BARRULET\",\"BARRULETY\",\"BARRULY\",\"BARRY\",\"BARRY\",\"BARSAC\",\"BARSE\",\"BARSOM\",\"BART\",\"BARTENDER\",\"BARTENDING\",\"BARTER\",\"BARTERER\"]"
       ]
      }
     ],
     "prompt_number": 8
    },
    {
     "cell_type": "markdown",
     "metadata": {
      "hidden": false
     },
     "source": [
      "The `B` and `U` are layout names for `B`-oxed and `U`-nboxed arrays respectively. In this case the stream is split into chunks of `B`-oxed arrays of `U`-nboxed characters. "
     ]
    },
    {
     "cell_type": "code",
     "collapsed": false,
     "input": [
      ":type up"
     ],
     "language": "python",
     "metadata": {
      "hidden": false
     },
     "outputs": [
      {
       "html": [
        "<span class='get-type'>up :: Sources B (Array U Char)</span>"
       ],
       "metadata": {},
       "output_type": "display_data",
       "text": [
        "up :: Sources B (Array U Char)"
       ]
      }
     ],
     "prompt_number": 9
    },
    {
     "cell_type": "markdown",
     "metadata": {
      "hidden": false
     },
     "source": [
      "Flows are data-parallel, which means operators like `map_i` apply to all streams in a bundle. We can check this by examining both streams in the result bundle."
     ]
    },
    {
     "cell_type": "code",
     "collapsed": false,
     "input": [
      "more 0 up\n",
      "more 1 up"
     ],
     "language": "python",
     "metadata": {
      "hidden": false
     },
     "outputs": [
      {
       "metadata": {},
       "output_type": "display_data",
       "text": [
        "Just [\"BARRISTRESS\",\"BARROOM\",\"BARROW\",\"BARROWFUL\",\"BARROWIST\",\"BARROWMAN\",\"BARRULEE\",\"BARRULET\",\"BARRULETY\",\"BARRULY\",\"BARRY\",\"BARRY\",\"BARSAC\",\"BARSE\",\"BARSOM\",\"BART\",\"BARTENDER\",\"BARTENDING\",\"BARTER\",\"BARTERER\"]"
       ]
      },
      {
       "metadata": {},
       "output_type": "display_data",
       "text": [
        "Just [\"THE\",\"OF\",\"AND\",\"TO\",\"A\",\"IN\",\"THAT\",\"IS\",\"WAS\",\"HE\",\"FOR\",\"IT\",\"WITH\",\"AS\",\"HIS\",\"ON\",\"BE\",\"AT\",\"BY\",\"I\"]"
       ]
      }
     ],
     "prompt_number": 65
    },
    {
     "cell_type": "markdown",
     "metadata": {
      "hidden": false
     },
     "source": [
      "Sinking Data\n",
      "------------\n",
      "\n",
      "The `ws` and `up` values we used before were bundles of stream `Sources`. To write data to disk we need a matching bundle of stream `Sinks`."
     ]
    },
    {
     "cell_type": "code",
     "collapsed": false,
     "input": [
      ":!mkdir -p tmp\n",
      "out <- toFiles [ \"tmp/out1.txt\"\n",
      "               , \"tmp/out2.txt\" ]\n",
      "               $ sinkLines B U\n",
      ":type out"
     ],
     "language": "python",
     "metadata": {
      "hidden": false
     },
     "outputs": [
      {
       "metadata": {},
       "output_type": "display_data",
       "text": []
      },
      {
       "html": [
        "<span class='get-type'>out :: Sinks B (Array U Char)</span>"
       ],
       "metadata": {},
       "output_type": "display_data",
       "text": [
        "out :: Sinks B (Array U Char)"
       ]
      }
     ],
     "prompt_number": 10
    },
    {
     "cell_type": "markdown",
     "metadata": {
      "hidden": false
     },
     "source": [
      "Now that we have a bundle of `Sources` and some matching `Sinks`, we can `drain` all of the data from the former into the latter. The `drain` function comes in two versions, the `drainS` computes each stream of the bundle sequentially (one after the other) while the `drainP` function computes all streams in parallel. \n",
      "\n",
      "To enable parallel evaluation you need to compile your program using \"ghc -threaded\" and run it with \"Main ... +RTS -N\" to enable the threads. As this is just an online tutorial we'll use the sequential version."
     ]
    },
    {
     "cell_type": "code",
     "collapsed": false,
     "input": [
      ":type drainS\n",
      "drainS up out"
     ],
     "language": "python",
     "metadata": {
      "hidden": false
     },
     "outputs": [
      {
       "html": [
        "<span class='get-type'>drainS :: forall l a. Sources l a -> Sinks l a -> IO ()</span>"
       ],
       "metadata": {},
       "output_type": "display_data",
       "text": [
        "drainS :: forall l a. Sources l a -> Sinks l a -> IO ()"
       ]
      },
      {
       "metadata": {},
       "output_type": "display_data",
       "text": []
      }
     ],
     "prompt_number": 11
    },
    {
     "cell_type": "markdown",
     "metadata": {
      "hidden": false
     },
     "source": [
      "At this point we can run an external shell command to check the output."
     ]
    },
    {
     "cell_type": "code",
     "collapsed": false,
     "input": [
      ":!head -10 \"tmp/out1.txt\""
     ],
     "language": "python",
     "metadata": {
      "hidden": false
     },
     "outputs": [
      {
       "metadata": {},
       "output_type": "display_data",
       "text": [
        "BRAIDER\n",
        "BRAIDING\n",
        "BRAIDISM\n",
        "BRAIDIST\n",
        "BRAIL\n",
        "BRAILLE\n",
        "BRAILLIST\n",
        "BRAIN\n",
        "BRAINACHE\n",
        "BRAINCAP"
       ]
      }
     ],
     "prompt_number": 12
    },
    {
     "cell_type": "code",
     "collapsed": false,
     "input": [
      ":!head -10 \"tmp/out2.txt\""
     ],
     "language": "python",
     "metadata": {
      "hidden": false
     },
     "outputs": [
      {
       "metadata": {},
       "output_type": "display_data",
       "text": [
        "THE\n",
        "OF\n",
        "AND\n",
        "TO\n",
        "A\n",
        "IN\n",
        "THAT\n",
        "IS\n",
        "WAS\n",
        "HE"
       ]
      }
     ],
     "prompt_number": 13
    },
    {
     "cell_type": "markdown",
     "metadata": {
      "hidden": false
     },
     "source": [
      "Cleaning up\n",
      "-----------\n",
      "\n",
      "Here we remove the output files and directories we created earlier."
     ]
    },
    {
     "cell_type": "code",
     "collapsed": false,
     "input": [
      ":!rm -f \"tmp/out1.txt\"\n",
      ":!rm -f \"tmp/out2.txt\"\n",
      ":!rmdir \"tmp\""
     ],
     "language": "python",
     "metadata": {
      "hidden": false
     },
     "outputs": [
      {
       "metadata": {},
       "output_type": "display_data",
       "text": []
      },
      {
       "metadata": {},
       "output_type": "display_data",
       "text": []
      },
      {
       "metadata": {},
       "output_type": "display_data",
       "text": []
      }
     ],
     "prompt_number": 16
    }
   ],
   "metadata": {}
  }
 ]
}